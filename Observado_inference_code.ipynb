{
  "nbformat": 4,
  "nbformat_minor": 0,
  "metadata": {
    "colab": {
      "name": "Observado_inference code.ipynb",
      "provenance": [],
      "collapsed_sections": []
    },
    "kernelspec": {
      "name": "python3",
      "display_name": "Python 3"
    },
    "language_info": {
      "name": "python"
    }
  },
  "cells": [
    {
      "cell_type": "code",
      "metadata": {
        "colab": {
          "base_uri": "https://localhost:8080/"
        },
        "id": "dLBaL4xidFML",
        "outputId": "43a3ae21-e175-4637-e821-302ccce809aa"
      },
      "source": [
        "\n",
        "from gensim.models import Word2Vec\n",
        "import string\n",
        "import spacy\n",
        "import numpy as np\n",
        "import joblib\n",
        "from spacy.lang.en.stop_words import STOP_WORDS\n",
        "from spacy.lang.en import English\n",
        "\n",
        "\n",
        "\n",
        "def inf_code(data):\n",
        "\n",
        "  def process_text(data):\n",
        "    #function that returns processed text\n",
        "    from spacy.lang.en import English\n",
        "    nlp = spacy.load('en_core_web_sm') \n",
        "     # list of punctuation marks\n",
        "    punctuations = string.punctuation\n",
        "    stop_words = spacy.lang.en.stop_words.STOP_WORDS\n",
        "    nlp.max_length = 15000000\n",
        "\n",
        "    master = []\n",
        "\n",
        "    for text in data:\n",
        "        doc = nlp(text)\n",
        "        slave = []\n",
        "\n",
        "        for token in doc:\n",
        "            if not token.is_stop and not token.is_punct:\n",
        "                if not token.like_num:  \n",
        "                    slave.append(token.lemma_.lower().replace('\\n',''))\n",
        "        master.append(' '.join(slave))\n",
        "    return master\n",
        "  \n",
        "  \n",
        "  \n",
        "\n",
        "\n",
        "  def vectorize(list_of_docs, model):\n",
        "    \"\"\"Generate vectors for list of documents using a Word Embedding\n",
        "\n",
        "    Args:\n",
        "        list_of_docs: List of documents\n",
        "        model: Gensim's Word Embedding\n",
        "\n",
        "    Returns:\n",
        "        List of document vectors\n",
        "    \"\"\"\n",
        "    features = []\n",
        "\n",
        "    for tokens in list_of_docs:\n",
        "        zero_vector = np.zeros(model.vector_size)\n",
        "        vectors = []\n",
        "        for token in tokens:\n",
        "            if token in model.wv:\n",
        "                try:\n",
        "                    vectors.append(model.wv[token])\n",
        "                except KeyError:\n",
        "                    continue\n",
        "        if vectors:\n",
        "            vectors = np.asarray(vectors)\n",
        "            avg_vec = vectors.mean(axis=0)\n",
        "            features.append(avg_vec)\n",
        "        else:\n",
        "            features.append(zero_vector)\n",
        "    return features\n",
        "    \n",
        "\n",
        "  \n",
        "\n",
        "      \n",
        "  def predict_result(data):\n",
        "    result = process_text(data)\n",
        "    model = Word2Vec(result, min_count=1)\n",
        "    vectorized_docs = vectorize(result, model=model)\n",
        "    #function that predict the cluster from embedding of text\n",
        "    clf = joblib.load('finalmodel.pkl') \n",
        "    # embd = vectorized_docs\n",
        "    output = clf.fit_predict(vectorized_docs)\n",
        "    return output\n",
        "  \n",
        "  final = predict_result(data)\n",
        "  return final\n",
        "\n",
        "data =[\n",
        "       \"Delhi has run out of Covaxin stock for people in the 18-44 age group and will have to shut 125 centres where the coronavirus vaccine was being administered.\\n\\nThe Aam Aadmi Party (AAP) leader urged the Centre to replenish Covaxin and Covishield stocks and said otherwise we will have no option but to stop vaccination drive\",\n",
        "       \"A thick mangrove forest has been planted along the coastline of the sea-viewing corridor in Xiashan district of Zhanjiang.\",\n",
        "       \"May 12,2021\\n\\nThe 2021 World UHD Video Industrial Conference (WUVIC) took place in Guangzhou from May 8 to 10, bringing together nearly 1,500 guests\",\n",
        "        \"Nine Palestinians, including three children, have been killed in Israeli missile strikes on Gaza\",\n",
        "       \"Israeli forces continued their violent crackdown on Palestinian protests in Sheikh Jarrah on Thursday, as a delay of Supreme Court ruling fails to calm tensions\\n\\n\",\n",
        "       \"Copyright © The National Committee of the Chinese People's Political Consultative Conference.\\n\\nAll rights reserved. Presented by China Daily.\\n\\n京ICP备08100501号-1\",\n",
        "       \"A 22-year old Indian national and a Singaporean of Indian descent were charged by a court under the Official Secrets Act for unauthorised communication about an apartment inspection. (Representative Image)\\n\\nA 22-year-old Indian national and a Singaporean of Indian descent were charged by a court here on Wednesday under the Official Secrets Act for unauthorised communication about an apartment inspection.\\n\\nDamandeep Singh allegedly received the information while having reasonable grounds to believe that it was communicated to him in contravention of the Official Secrets Act, said the Corrupt Practices Investigation Bureau (CPIB).\\n\\nHe received the information from Kalayarasan Karuppaya, an Indian-origin higher estate executive with the Housing and Development Board (HDB), the public housing authority.\\n\\nThe 44-year-old Singaporean allegedly leaked information on HDB’s impending inspections of a flat at Kim Tian Road, off the central business district, to Singh, a registered tenant of the unit, according to a Channel News Asia report.\\n\\nKalayarasan was not authorised to communicate the information to Singh, said CPIB. He did so on three occasions in May, August and September 2019.\\n\\nThey were charged on Wednesday over unauthorised communication about flat inspections, said the report citing a CIPB release.\\n\\nEach man faces three charges for offences under the Official Secrets Act. If convicted, they could be jailed for up to two years and fined up to 2,000 Singapore dollars (USD 1,504) for each charge.\\n\\n“Singapore adopts a strict zero-tolerance approach towards corruption and other criminal activities,” said the CPIB.\\n\\nREAD: Singapore: Indian man jailed, fined for molesting woman in office toilet\\n\\nALSO READ: Singapore court sends Indian-origin woman to jail for breaching Covid-19 protocol\\n\\nALSO READ: Indian-origin engineer charged with corruption in Singapore\"\n",
        "]\n",
        "cluster = inf_code(data)\n",
        "print(\"The resultant cluster is:-\", cluster)"
      ],
      "execution_count": null,
      "outputs": [
        {
          "output_type": "stream",
          "text": [
            "The resultant cluster is:- [2 0 3 0 2 1 2]\n"
          ],
          "name": "stdout"
        }
      ]
    }
  ]
}